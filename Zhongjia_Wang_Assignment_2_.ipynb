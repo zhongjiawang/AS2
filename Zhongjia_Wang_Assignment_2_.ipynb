{
  "cells": [
    {
      "cell_type": "markdown",
      "metadata": {
        "id": "view-in-github",
        "colab_type": "text"
      },
      "source": [
        "<a href=\"https://colab.research.google.com/github/zhongjiawang/AS2/blob/main/Zhongjia_Wang_Assignment_2_.ipynb\" target=\"_parent\"><img src=\"https://colab.research.google.com/assets/colab-badge.svg\" alt=\"Open In Colab\"/></a>"
      ]
    },
    {
      "cell_type": "code",
      "execution_count": 60,
      "id": "6b06c25b",
      "metadata": {
        "id": "6b06c25b"
      },
      "outputs": [],
      "source": [
        "import pandas as pd\n",
        "import numpy as np\n",
        "import random\n",
        "import statsmodels.api as sm\n",
        "from sklearn.model_selection import cross_val_score\n",
        "from sklearn.model_selection import RepeatedKFold\n",
        "from sklearn.linear_model import Lasso\n",
        "from sklearn.feature_selection import SelectFromModel\n",
        "import matplotlib.pyplot as plt\n",
        "from tqdm import tqdm\n",
        "random.seed(10)"
      ]
    },
    {
      "cell_type": "code",
      "execution_count": 61,
      "id": "898321bd",
      "metadata": {
        "id": "898321bd"
      },
      "outputs": [],
      "source": [
        "def fn_variance(data, ddof=0):\n",
        "    n = len(data)\n",
        "    mean = sum(data) / n\n",
        "    return sum((x - mean) ** 2 for x in data) / (n - ddof)\n",
        "# Note this is equivalent to np.var(Yt,ddof)\n",
        "\n",
        "def fn_generate_cov(dim):\n",
        "    acc  = []\n",
        "    for i in range(dim):\n",
        "        row = np.ones((1,dim)) * corr\n",
        "        row[0][i] = 1\n",
        "        acc.append(row)\n",
        "    return np.concatenate(acc,axis=0)\n",
        "\n",
        "def fn_generate_multnorm(nobs,corr,nvar):\n",
        "    mu = np.zeros(nvar)\n",
        "    std = (np.abs(np.random.normal(loc = 1, scale = .5,size = (nvar,1))))**(1/2)\n",
        "    # generate random normal distribution\n",
        "    acc = []\n",
        "    for i in range(nvar):\n",
        "        acc.append(np.reshape(np.random.normal(mu[i],std[i],nobs),(nobs,-1)))\n",
        "    \n",
        "    normvars = np.concatenate(acc,axis=1)\n",
        "\n",
        "    cov = fn_generate_cov(nvar)\n",
        "    C = np.linalg.cholesky(cov)\n",
        "\n",
        "    Y = np.transpose(np.dot(C,np.transpose(normvars)))\n",
        "\n",
        "#     return (Y,np.round(np.corrcoef(Y,rowvar=False),2))\n",
        "    return Y\n",
        "\n",
        "def fn_randomize_treatment(N,p=0.5):\n",
        "    treated = random.sample(range(N), round(N*p))\n",
        "    return np.array([(1 if i in treated else 0) for i in range(N)]).reshape([N,1])\n",
        "\n",
        "\n",
        "def fn_tauhat_means(Yt,Yc):\n",
        "    nt = len(Yt)\n",
        "    nc = len(Yc)\n",
        "    tauhat = np.mean(Yt)-np.mean(Yc)\n",
        "    se_tauhat = (np.var(Yt,ddof=1)/nt+np.var(Yc,ddof=1)/nc)**(1/2)\n",
        "    return (tauhat,se_tauhat)\n",
        "\n",
        "def fn_bias_rmse_size(theta0,thetahat,se_thetahat,cval = 1.96):\n",
        "    \"\"\"\n",
        "    theta0 - true parameter value\n",
        "    thetatahat - estimated parameter value\n",
        "    se_thetahat - estiamted se of thetahat\n",
        "    \"\"\"\n",
        "    b = thetahat - theta0\n",
        "    bias = np.mean(b)\n",
        "    rmse = np.sqrt(np.mean(b**2))\n",
        "    tval = b/se_thetahat # paramhat/se_paramhat H0: theta = 0\n",
        "    size = np.mean(1*(np.abs(tval)>cval))\n",
        "    # note size calculated at true parameter value\n",
        "    return (bias,rmse,size)\n",
        "\n",
        "def fn_generate_data(tau,N,p,p0,corr,conf = True,flagX = False):\n",
        "    \"\"\"\n",
        "    p0(int): number of covariates with nonzero coefficients\n",
        "    \"\"\"\n",
        "    nvar = p+2 # 1 confounder and variable for randomizing treatment\n",
        "    corr = 0.5\n",
        "    conf_mult=1\n",
        "    \n",
        "    if conf==False:\n",
        "        conf_mult = 0 # remove confounder from outcome\n",
        "        \n",
        "    allX = fn_generate_multnorm(N,corr,nvar)\n",
        "    W0 = allX[:,0].reshape([N,1]) # variable for RDD assignment\n",
        "    C = allX[:,1].reshape([N,1]) # confounder\n",
        "    X = allX[:,2:] # observed covariates\n",
        "\n",
        "    T = fn_randomize_treatment(N) # choose treated units\n",
        "    err = np.random.normal(0,1,[N,1])\n",
        "    beta0 = np.random.normal(5,5,[p,1])\n",
        "\n",
        "    beta0[p0:p] = 0 # sparse model\n",
        "    Yab = tau*T+X@beta0+conf_mult*0.6*C+err\n",
        "    if flagX==False:\n",
        "        return (Yab,T)\n",
        "    else:\n",
        "        return (Yab,T,X)\n",
        "\n",
        "def fn_run_experiments(tau,Nrange,p,p0,corr,conf,flagX=False):\n",
        "    n_values = []\n",
        "    tauhats = []\n",
        "    sehats = []\n",
        "    lb = []\n",
        "    ub = []\n",
        "    for N in tqdm(Nrange):\n",
        "        n_values = n_values + [N]\n",
        "        if flagX==False:\n",
        "            ## calculate average treatment effect\n",
        "            Yexp,T = fn_generate_data(tau,N,p,p0,corr,conf,flagX)\n",
        "            Yt = Yexp[np.where(T==1)[0],:]\n",
        "            Yc = Yexp[np.where(T==0)[0],:]\n",
        "            tauhat,se_tauhat = fn_tauhat_means(Yt,Yc) \n",
        "            ## tauhat = ATE; se_tauhat = standard error of ATE\n",
        "            \n",
        "        elif flagX==1:\n",
        "            # use the right covariates in regression\n",
        "            Yexp,T,X = fn_generate_data(tau,N,p,p0,corr,conf,flagX)\n",
        "            Xobs = X[:,:p0]\n",
        "            covars = np.concatenate([T,Xobs],axis = 1)\n",
        "            mod = sm.OLS(Yexp,covars)\n",
        "            res = mod.fit()\n",
        "            tauhat = res.params[0]\n",
        "            se_tauhat = res.HC1_se[0]\n",
        "            \n",
        "        elif flagX==2:\n",
        "            # use some of the right covariates and some \"wrong\" ones\n",
        "            Yexp,T,X = fn_generate_data(tau,N,p,p0,corr,conf,flagX)\n",
        "            Xobs1 = X[:,:np.int(p0/2)]\n",
        "            Xobs2 = X[:,-np.int(p0/2):]\n",
        "            covars = np.concatenate([T,Xobs1,Xobs2],axis = 1)\n",
        "            mod = sm.OLS(Yexp,covars)\n",
        "            res = mod.fit()\n",
        "            tauhat = res.params[0]\n",
        "            se_tauhat = res.HC1_se[0]\n",
        "            \n",
        "        tauhats = tauhats + [tauhat]\n",
        "        sehats = sehats + [se_tauhat]    \n",
        "        lb = lb + [tauhat-1.96*se_tauhat]\n",
        "        ub = ub + [tauhat+1.96*se_tauhat]\n",
        "        \n",
        "    return (n_values,tauhats,sehats,lb,ub)\n"
      ]
    },
    {
      "cell_type": "code",
      "source": [
        "import warnings\n",
        "warnings.filterwarnings('ignore')\n",
        "\n",
        "import pandas as pd\n",
        "import numpy as np\n",
        "import graphviz as gr\n",
        "from matplotlib import style\n",
        "import seaborn as sns\n",
        "from matplotlib import pyplot as plt\n",
        "style.use(\"fivethirtyeight\")"
      ],
      "metadata": {
        "id": "gsD0CIhosquq"
      },
      "id": "gsD0CIhosquq",
      "execution_count": 62,
      "outputs": []
    },
    {
      "cell_type": "markdown",
      "id": "5ce70741",
      "metadata": {
        "id": "5ce70741"
      },
      "source": [
        "## Q1 (a) \n",
        "### You don't control convariates\n",
        "\n",
        "$y_i = \\tau*T_i+\\beta'*x_i+e_i$\n"
      ]
    },
    {
      "cell_type": "markdown",
      "source": [
        "Real Life example:\n",
        "We want to find the effect of eduction to wages. And we also including the years of working experiences. In the fuction above, we assume T is treatment effect of education on wage for individual (yi). X is convarites, in our case is the year of working experiences For question 1(a), we don't control covariates. The treatment effect is directly from education."
      ],
      "metadata": {
        "id": "xZZk4qP3I-fs"
      },
      "id": "xZZk4qP3I-fs"
    },
    {
      "cell_type": "markdown",
      "source": [
        "𝑦𝑖=𝜏∗𝑇𝑖+𝑒𝑖 "
      ],
      "metadata": {
        "id": "_frJFaDgs1rb"
      },
      "id": "_frJFaDgs1rb"
    },
    {
      "cell_type": "code",
      "source": [
        "g = gr.Digraph()\n",
        "g.edge(\"treatment\", \"Y\")\n",
        "\n",
        "g.edge(\"Education\", \"Wages\")\n",
        "\n",
        "g"
      ],
      "metadata": {
        "colab": {
          "base_uri": "https://localhost:8080/",
          "height": 176
        },
        "id": "U6abg1R0s_v8",
        "outputId": "d863f4eb-3094-488c-9390-cf7b248956c0"
      },
      "id": "U6abg1R0s_v8",
      "execution_count": 63,
      "outputs": [
        {
          "output_type": "execute_result",
          "data": {
            "text/plain": [
              "<graphviz.dot.Digraph at 0x7fc80a61f410>"
            ],
            "image/svg+xml": "<?xml version=\"1.0\" encoding=\"UTF-8\" standalone=\"no\"?>\n<!DOCTYPE svg PUBLIC \"-//W3C//DTD SVG 1.1//EN\"\n \"http://www.w3.org/Graphics/SVG/1.1/DTD/svg11.dtd\">\n<!-- Generated by graphviz version 2.40.1 (20161225.0304)\n -->\n<!-- Title: %3 Pages: 1 -->\n<svg width=\"214pt\" height=\"116pt\"\n viewBox=\"0.00 0.00 213.59 116.00\" xmlns=\"http://www.w3.org/2000/svg\" xmlns:xlink=\"http://www.w3.org/1999/xlink\">\n<g id=\"graph0\" class=\"graph\" transform=\"scale(1 1) rotate(0) translate(4 112)\">\n<title>%3</title>\n<polygon fill=\"#ffffff\" stroke=\"transparent\" points=\"-4,4 -4,-112 209.5917,-112 209.5917,4 -4,4\"/>\n<!-- treatment -->\n<g id=\"node1\" class=\"node\">\n<title>treatment</title>\n<ellipse fill=\"none\" stroke=\"#000000\" cx=\"44.846\" cy=\"-90\" rx=\"44.6926\" ry=\"18\"/>\n<text text-anchor=\"middle\" x=\"44.846\" y=\"-86.3\" font-family=\"Times,serif\" font-size=\"14.00\" fill=\"#000000\">treatment</text>\n</g>\n<!-- Y -->\n<g id=\"node2\" class=\"node\">\n<title>Y</title>\n<ellipse fill=\"none\" stroke=\"#000000\" cx=\"44.846\" cy=\"-18\" rx=\"27\" ry=\"18\"/>\n<text text-anchor=\"middle\" x=\"44.846\" y=\"-14.3\" font-family=\"Times,serif\" font-size=\"14.00\" fill=\"#000000\">Y</text>\n</g>\n<!-- treatment&#45;&gt;Y -->\n<g id=\"edge1\" class=\"edge\">\n<title>treatment&#45;&gt;Y</title>\n<path fill=\"none\" stroke=\"#000000\" d=\"M44.846,-71.8314C44.846,-64.131 44.846,-54.9743 44.846,-46.4166\"/>\n<polygon fill=\"#000000\" stroke=\"#000000\" points=\"48.3461,-46.4132 44.846,-36.4133 41.3461,-46.4133 48.3461,-46.4132\"/>\n</g>\n<!-- Education -->\n<g id=\"node3\" class=\"node\">\n<title>Education</title>\n<ellipse fill=\"none\" stroke=\"#000000\" cx=\"156.846\" cy=\"-90\" rx=\"48.9926\" ry=\"18\"/>\n<text text-anchor=\"middle\" x=\"156.846\" y=\"-86.3\" font-family=\"Times,serif\" font-size=\"14.00\" fill=\"#000000\">Education</text>\n</g>\n<!-- Wages -->\n<g id=\"node4\" class=\"node\">\n<title>Wages</title>\n<ellipse fill=\"none\" stroke=\"#000000\" cx=\"156.846\" cy=\"-18\" rx=\"35.194\" ry=\"18\"/>\n<text text-anchor=\"middle\" x=\"156.846\" y=\"-14.3\" font-family=\"Times,serif\" font-size=\"14.00\" fill=\"#000000\">Wages</text>\n</g>\n<!-- Education&#45;&gt;Wages -->\n<g id=\"edge2\" class=\"edge\">\n<title>Education&#45;&gt;Wages</title>\n<path fill=\"none\" stroke=\"#000000\" d=\"M156.846,-71.8314C156.846,-64.131 156.846,-54.9743 156.846,-46.4166\"/>\n<polygon fill=\"#000000\" stroke=\"#000000\" points=\"160.3461,-46.4132 156.846,-36.4133 153.3461,-46.4133 160.3461,-46.4132\"/>\n</g>\n</g>\n</svg>\n"
          },
          "metadata": {},
          "execution_count": 63
        }
      ]
    },
    {
      "cell_type": "code",
      "source": [
        "#DGP\n",
        "tau = 4\n",
        "corr = .5\n",
        "conf = False\n",
        "p = 3\n",
        "p0 = 2 # number of covariates used in the DGP\n",
        "flagx=1\n",
        "N=1000\n",
        "Y,T,X = fn_generate_data(tau,N,p,p0,corr,conf,flagX)\n",
        "data1 = np.concatenate([Y,T,X],axis = 1)\n",
        "data1 = pd.DataFrame(data1)\n",
        "data1.columns = ['Y', 'T', 'cov1', 'cov2','cov3']\n",
        "data1.to_csv('data_cov.csv')\n",
        "data1"
      ],
      "metadata": {
        "colab": {
          "base_uri": "https://localhost:8080/",
          "height": 419
        },
        "id": "7fP7YEYWEiQ2",
        "outputId": "9704229c-28be-4348-b3d5-720a87b379e1"
      },
      "id": "7fP7YEYWEiQ2",
      "execution_count": 64,
      "outputs": [
        {
          "output_type": "execute_result",
          "data": {
            "text/plain": [
              "             Y    T      cov1      cov2      cov3\n",
              "0    -1.416650  0.0 -0.016134 -0.229560  0.266623\n",
              "1    -1.428179  0.0 -0.607011  0.203483 -1.154814\n",
              "2    -1.627454  1.0 -0.331442 -0.487843  0.125154\n",
              "3    -6.552607  0.0 -0.128716 -0.788182 -0.115060\n",
              "4     5.892215  1.0  0.513018 -0.057073  0.225923\n",
              "..         ...  ...       ...       ...       ...\n",
              "995  -7.404227  1.0 -0.845726 -0.570629 -0.620417\n",
              "996   2.544536  1.0 -0.169855  0.124609 -0.227522\n",
              "997 -30.189925  1.0 -2.146663 -2.406931 -2.084859\n",
              "998  33.074381  1.0  0.439893  3.236354  0.446517\n",
              "999   5.761963  1.0  0.222932  0.005993  0.429378\n",
              "\n",
              "[1000 rows x 5 columns]"
            ],
            "text/html": [
              "\n",
              "  <div id=\"df-adb5152b-646f-40cf-994e-d8053f3673a1\">\n",
              "    <div class=\"colab-df-container\">\n",
              "      <div>\n",
              "<style scoped>\n",
              "    .dataframe tbody tr th:only-of-type {\n",
              "        vertical-align: middle;\n",
              "    }\n",
              "\n",
              "    .dataframe tbody tr th {\n",
              "        vertical-align: top;\n",
              "    }\n",
              "\n",
              "    .dataframe thead th {\n",
              "        text-align: right;\n",
              "    }\n",
              "</style>\n",
              "<table border=\"1\" class=\"dataframe\">\n",
              "  <thead>\n",
              "    <tr style=\"text-align: right;\">\n",
              "      <th></th>\n",
              "      <th>Y</th>\n",
              "      <th>T</th>\n",
              "      <th>cov1</th>\n",
              "      <th>cov2</th>\n",
              "      <th>cov3</th>\n",
              "    </tr>\n",
              "  </thead>\n",
              "  <tbody>\n",
              "    <tr>\n",
              "      <th>0</th>\n",
              "      <td>-1.416650</td>\n",
              "      <td>0.0</td>\n",
              "      <td>-0.016134</td>\n",
              "      <td>-0.229560</td>\n",
              "      <td>0.266623</td>\n",
              "    </tr>\n",
              "    <tr>\n",
              "      <th>1</th>\n",
              "      <td>-1.428179</td>\n",
              "      <td>0.0</td>\n",
              "      <td>-0.607011</td>\n",
              "      <td>0.203483</td>\n",
              "      <td>-1.154814</td>\n",
              "    </tr>\n",
              "    <tr>\n",
              "      <th>2</th>\n",
              "      <td>-1.627454</td>\n",
              "      <td>1.0</td>\n",
              "      <td>-0.331442</td>\n",
              "      <td>-0.487843</td>\n",
              "      <td>0.125154</td>\n",
              "    </tr>\n",
              "    <tr>\n",
              "      <th>3</th>\n",
              "      <td>-6.552607</td>\n",
              "      <td>0.0</td>\n",
              "      <td>-0.128716</td>\n",
              "      <td>-0.788182</td>\n",
              "      <td>-0.115060</td>\n",
              "    </tr>\n",
              "    <tr>\n",
              "      <th>4</th>\n",
              "      <td>5.892215</td>\n",
              "      <td>1.0</td>\n",
              "      <td>0.513018</td>\n",
              "      <td>-0.057073</td>\n",
              "      <td>0.225923</td>\n",
              "    </tr>\n",
              "    <tr>\n",
              "      <th>...</th>\n",
              "      <td>...</td>\n",
              "      <td>...</td>\n",
              "      <td>...</td>\n",
              "      <td>...</td>\n",
              "      <td>...</td>\n",
              "    </tr>\n",
              "    <tr>\n",
              "      <th>995</th>\n",
              "      <td>-7.404227</td>\n",
              "      <td>1.0</td>\n",
              "      <td>-0.845726</td>\n",
              "      <td>-0.570629</td>\n",
              "      <td>-0.620417</td>\n",
              "    </tr>\n",
              "    <tr>\n",
              "      <th>996</th>\n",
              "      <td>2.544536</td>\n",
              "      <td>1.0</td>\n",
              "      <td>-0.169855</td>\n",
              "      <td>0.124609</td>\n",
              "      <td>-0.227522</td>\n",
              "    </tr>\n",
              "    <tr>\n",
              "      <th>997</th>\n",
              "      <td>-30.189925</td>\n",
              "      <td>1.0</td>\n",
              "      <td>-2.146663</td>\n",
              "      <td>-2.406931</td>\n",
              "      <td>-2.084859</td>\n",
              "    </tr>\n",
              "    <tr>\n",
              "      <th>998</th>\n",
              "      <td>33.074381</td>\n",
              "      <td>1.0</td>\n",
              "      <td>0.439893</td>\n",
              "      <td>3.236354</td>\n",
              "      <td>0.446517</td>\n",
              "    </tr>\n",
              "    <tr>\n",
              "      <th>999</th>\n",
              "      <td>5.761963</td>\n",
              "      <td>1.0</td>\n",
              "      <td>0.222932</td>\n",
              "      <td>0.005993</td>\n",
              "      <td>0.429378</td>\n",
              "    </tr>\n",
              "  </tbody>\n",
              "</table>\n",
              "<p>1000 rows × 5 columns</p>\n",
              "</div>\n",
              "      <button class=\"colab-df-convert\" onclick=\"convertToInteractive('df-adb5152b-646f-40cf-994e-d8053f3673a1')\"\n",
              "              title=\"Convert this dataframe to an interactive table.\"\n",
              "              style=\"display:none;\">\n",
              "        \n",
              "  <svg xmlns=\"http://www.w3.org/2000/svg\" height=\"24px\"viewBox=\"0 0 24 24\"\n",
              "       width=\"24px\">\n",
              "    <path d=\"M0 0h24v24H0V0z\" fill=\"none\"/>\n",
              "    <path d=\"M18.56 5.44l.94 2.06.94-2.06 2.06-.94-2.06-.94-.94-2.06-.94 2.06-2.06.94zm-11 1L8.5 8.5l.94-2.06 2.06-.94-2.06-.94L8.5 2.5l-.94 2.06-2.06.94zm10 10l.94 2.06.94-2.06 2.06-.94-2.06-.94-.94-2.06-.94 2.06-2.06.94z\"/><path d=\"M17.41 7.96l-1.37-1.37c-.4-.4-.92-.59-1.43-.59-.52 0-1.04.2-1.43.59L10.3 9.45l-7.72 7.72c-.78.78-.78 2.05 0 2.83L4 21.41c.39.39.9.59 1.41.59.51 0 1.02-.2 1.41-.59l7.78-7.78 2.81-2.81c.8-.78.8-2.07 0-2.86zM5.41 20L4 18.59l7.72-7.72 1.47 1.35L5.41 20z\"/>\n",
              "  </svg>\n",
              "      </button>\n",
              "      \n",
              "  <style>\n",
              "    .colab-df-container {\n",
              "      display:flex;\n",
              "      flex-wrap:wrap;\n",
              "      gap: 12px;\n",
              "    }\n",
              "\n",
              "    .colab-df-convert {\n",
              "      background-color: #E8F0FE;\n",
              "      border: none;\n",
              "      border-radius: 50%;\n",
              "      cursor: pointer;\n",
              "      display: none;\n",
              "      fill: #1967D2;\n",
              "      height: 32px;\n",
              "      padding: 0 0 0 0;\n",
              "      width: 32px;\n",
              "    }\n",
              "\n",
              "    .colab-df-convert:hover {\n",
              "      background-color: #E2EBFA;\n",
              "      box-shadow: 0px 1px 2px rgba(60, 64, 67, 0.3), 0px 1px 3px 1px rgba(60, 64, 67, 0.15);\n",
              "      fill: #174EA6;\n",
              "    }\n",
              "\n",
              "    [theme=dark] .colab-df-convert {\n",
              "      background-color: #3B4455;\n",
              "      fill: #D2E3FC;\n",
              "    }\n",
              "\n",
              "    [theme=dark] .colab-df-convert:hover {\n",
              "      background-color: #434B5C;\n",
              "      box-shadow: 0px 1px 3px 1px rgba(0, 0, 0, 0.15);\n",
              "      filter: drop-shadow(0px 1px 2px rgba(0, 0, 0, 0.3));\n",
              "      fill: #FFFFFF;\n",
              "    }\n",
              "  </style>\n",
              "\n",
              "      <script>\n",
              "        const buttonEl =\n",
              "          document.querySelector('#df-adb5152b-646f-40cf-994e-d8053f3673a1 button.colab-df-convert');\n",
              "        buttonEl.style.display =\n",
              "          google.colab.kernel.accessAllowed ? 'block' : 'none';\n",
              "\n",
              "        async function convertToInteractive(key) {\n",
              "          const element = document.querySelector('#df-adb5152b-646f-40cf-994e-d8053f3673a1');\n",
              "          const dataTable =\n",
              "            await google.colab.kernel.invokeFunction('convertToInteractive',\n",
              "                                                     [key], {});\n",
              "          if (!dataTable) return;\n",
              "\n",
              "          const docLinkHtml = 'Like what you see? Visit the ' +\n",
              "            '<a target=\"_blank\" href=https://colab.research.google.com/notebooks/data_table.ipynb>data table notebook</a>'\n",
              "            + ' to learn more about interactive tables.';\n",
              "          element.innerHTML = '';\n",
              "          dataTable['output_type'] = 'display_data';\n",
              "          await google.colab.output.renderOutput(dataTable, element);\n",
              "          const docLink = document.createElement('div');\n",
              "          docLink.innerHTML = docLinkHtml;\n",
              "          element.appendChild(docLink);\n",
              "        }\n",
              "      </script>\n",
              "    </div>\n",
              "  </div>\n",
              "  "
            ]
          },
          "metadata": {},
          "execution_count": 64
        }
      ]
    },
    {
      "cell_type": "code",
      "execution_count": 65,
      "id": "03ce5deb",
      "metadata": {
        "colab": {
          "base_uri": "https://localhost:8080/"
        },
        "id": "03ce5deb",
        "outputId": "c561c888-20f1-43df-a9fe-5bdecc1e6e14"
      },
      "outputs": [
        {
          "output_type": "stream",
          "name": "stderr",
          "text": [
            "100%|██████████| 2000/2000 [00:01<00:00, 1406.62it/s]\n",
            "100%|██████████| 2000/2000 [00:16<00:00, 117.71it/s]"
          ]
        },
        {
          "output_type": "stream",
          "name": "stdout",
          "text": [
            "N=100: bias=-0.002373023478224133, RMSE=0.20023138462960563, size=0.053\n",
            "N=1000: bias=-0.001521430870932713, RMSE=0.06243587751299028, size=0.043\n"
          ]
        },
        {
          "output_type": "stream",
          "name": "stderr",
          "text": [
            "\n"
          ]
        }
      ],
      "source": [
        "tau = 4\n",
        "corr = .5\n",
        "conf = False\n",
        "p = 5\n",
        "p0 = 0 # zero covariates used in the DGP\n",
        "flagx=1\n",
        "estDict = {}\n",
        "R = 2000\n",
        "\n",
        "for N in [100, 1000]:\n",
        "    tauhats = []\n",
        "    sehats = []\n",
        "    for r in tqdm(range(R)):\n",
        "        Yexp,T = fn_generate_data(tau,N,p,p0,corr,conf)\n",
        "        Yt = Yexp[np.where(T==1)[0],:]\n",
        "        Yc = Yexp[np.where(T==0)[0],:]\n",
        "        tauhat,se_tauhat = fn_tauhat_means(Yt,Yc)\n",
        "        tauhats = tauhats + [tauhat]\n",
        "        sehats = sehats + [se_tauhat]\n",
        "    estDict[N] = {\n",
        "        'tauhat':np.array(tauhats).reshape([len(tauhats),1]),\n",
        "        'sehat':np.array(sehats).reshape([len(sehats),1])\n",
        "    }\n",
        "    \n",
        "tau0 = tau*np.ones([R,1])\n",
        "for N, results in estDict.items():\n",
        "    (bias,rmse,size) = fn_bias_rmse_size(tau0,results['tauhat'],\n",
        "                                         results['sehat'])\n",
        "    print(f'N={N}: bias={bias}, RMSE={rmse}, size={size}')"
      ]
    },
    {
      "cell_type": "markdown",
      "source": [
        ""
      ],
      "metadata": {
        "id": "y7fd2r_bMoLP"
      },
      "id": "y7fd2r_bMoLP"
    },
    {
      "cell_type": "markdown",
      "id": "0122ceec",
      "metadata": {
        "id": "0122ceec"
      },
      "source": [
        "## Q1 (b)\n",
        "### You control the covariates"
      ]
    },
    {
      "cell_type": "markdown",
      "source": [
        "$y_i = \\tau*T_i+\\beta'*x_i+e_i$\n"
      ],
      "metadata": {
        "id": "3jC5MM9jFvlc"
      },
      "id": "3jC5MM9jFvlc"
    },
    {
      "cell_type": "markdown",
      "source": [
        "In this case, we will add convarites ( years of working experiences)"
      ],
      "metadata": {
        "id": "-K1OoL6_O947"
      },
      "id": "-K1OoL6_O947"
    },
    {
      "cell_type": "code",
      "source": [
        "# DAG Illustration\n",
        "g = gr.Digraph()\n",
        "g.edge(\"treatment\", \"Y\")\n",
        "g.edge(\"covariates\", \"Y\")\n",
        "\n",
        "g.edge(\"Education level\", \"Wages\")\n",
        "g.edge(\"Years of working experiences\", \"Wages\")\n",
        "g"
      ],
      "metadata": {
        "colab": {
          "base_uri": "https://localhost:8080/",
          "height": 176
        },
        "id": "ult1Nz7KshMv",
        "outputId": "e52f6603-23cf-468f-a46c-89468e2aec46"
      },
      "id": "ult1Nz7KshMv",
      "execution_count": 66,
      "outputs": [
        {
          "output_type": "execute_result",
          "data": {
            "text/plain": [
              "<graphviz.dot.Digraph at 0x7fc80a585e50>"
            ],
            "image/svg+xml": "<?xml version=\"1.0\" encoding=\"UTF-8\" standalone=\"no\"?>\n<!DOCTYPE svg PUBLIC \"-//W3C//DTD SVG 1.1//EN\"\n \"http://www.w3.org/Graphics/SVG/1.1/DTD/svg11.dtd\">\n<!-- Generated by graphviz version 2.40.1 (20161225.0304)\n -->\n<!-- Title: %3 Pages: 1 -->\n<svg width=\"624pt\" height=\"116pt\"\n viewBox=\"0.00 0.00 624.09 116.00\" xmlns=\"http://www.w3.org/2000/svg\" xmlns:xlink=\"http://www.w3.org/1999/xlink\">\n<g id=\"graph0\" class=\"graph\" transform=\"scale(1 1) rotate(0) translate(4 112)\">\n<title>%3</title>\n<polygon fill=\"#ffffff\" stroke=\"transparent\" points=\"-4,4 -4,-112 620.0854,-112 620.0854,4 -4,4\"/>\n<!-- treatment -->\n<g id=\"node1\" class=\"node\">\n<title>treatment</title>\n<ellipse fill=\"none\" stroke=\"#000000\" cx=\"44.846\" cy=\"-90\" rx=\"44.6926\" ry=\"18\"/>\n<text text-anchor=\"middle\" x=\"44.846\" y=\"-86.3\" font-family=\"Times,serif\" font-size=\"14.00\" fill=\"#000000\">treatment</text>\n</g>\n<!-- Y -->\n<g id=\"node2\" class=\"node\">\n<title>Y</title>\n<ellipse fill=\"none\" stroke=\"#000000\" cx=\"99.846\" cy=\"-18\" rx=\"27\" ry=\"18\"/>\n<text text-anchor=\"middle\" x=\"99.846\" y=\"-14.3\" font-family=\"Times,serif\" font-size=\"14.00\" fill=\"#000000\">Y</text>\n</g>\n<!-- treatment&#45;&gt;Y -->\n<g id=\"edge1\" class=\"edge\">\n<title>treatment&#45;&gt;Y</title>\n<path fill=\"none\" stroke=\"#000000\" d=\"M58.16,-72.5708C65.1144,-63.4668 73.7357,-52.1808 81.33,-42.2391\"/>\n<polygon fill=\"#000000\" stroke=\"#000000\" points=\"84.1195,-44.3531 87.4086,-34.2817 78.5568,-40.1038 84.1195,-44.3531\"/>\n</g>\n<!-- covariates -->\n<g id=\"node3\" class=\"node\">\n<title>covariates</title>\n<ellipse fill=\"none\" stroke=\"#000000\" cx=\"154.846\" cy=\"-90\" rx=\"47.3916\" ry=\"18\"/>\n<text text-anchor=\"middle\" x=\"154.846\" y=\"-86.3\" font-family=\"Times,serif\" font-size=\"14.00\" fill=\"#000000\">covariates</text>\n</g>\n<!-- covariates&#45;&gt;Y -->\n<g id=\"edge2\" class=\"edge\">\n<title>covariates&#45;&gt;Y</title>\n<path fill=\"none\" stroke=\"#000000\" d=\"M141.5321,-72.5708C134.5776,-63.4668 125.9563,-52.1808 118.362,-42.2391\"/>\n<polygon fill=\"#000000\" stroke=\"#000000\" points=\"121.1352,-40.1038 112.2834,-34.2817 115.5725,-44.3531 121.1352,-40.1038\"/>\n</g>\n<!-- Education level -->\n<g id=\"node4\" class=\"node\">\n<title>Education level</title>\n<ellipse fill=\"none\" stroke=\"#000000\" cx=\"288.846\" cy=\"-90\" rx=\"68.7879\" ry=\"18\"/>\n<text text-anchor=\"middle\" x=\"288.846\" y=\"-86.3\" font-family=\"Times,serif\" font-size=\"14.00\" fill=\"#000000\">Education level</text>\n</g>\n<!-- Wages -->\n<g id=\"node5\" class=\"node\">\n<title>Wages</title>\n<ellipse fill=\"none\" stroke=\"#000000\" cx=\"391.846\" cy=\"-18\" rx=\"35.194\" ry=\"18\"/>\n<text text-anchor=\"middle\" x=\"391.846\" y=\"-14.3\" font-family=\"Times,serif\" font-size=\"14.00\" fill=\"#000000\">Wages</text>\n</g>\n<!-- Education level&#45;&gt;Wages -->\n<g id=\"edge3\" class=\"edge\">\n<title>Education level&#45;&gt;Wages</title>\n<path fill=\"none\" stroke=\"#000000\" d=\"M312.9949,-73.1192C327.8452,-62.7385 346.9697,-49.3699 362.6651,-38.3983\"/>\n<polygon fill=\"#000000\" stroke=\"#000000\" points=\"364.7922,-41.1818 370.9831,-32.5838 360.7817,-35.4445 364.7922,-41.1818\"/>\n</g>\n<!-- Years of working experiences -->\n<g id=\"node6\" class=\"node\">\n<title>Years of working experiences</title>\n<ellipse fill=\"none\" stroke=\"#000000\" cx=\"495.846\" cy=\"-90\" rx=\"120.4791\" ry=\"18\"/>\n<text text-anchor=\"middle\" x=\"495.846\" y=\"-86.3\" font-family=\"Times,serif\" font-size=\"14.00\" fill=\"#000000\">Years of working experiences</text>\n</g>\n<!-- Years of working experiences&#45;&gt;Wages -->\n<g id=\"edge4\" class=\"edge\">\n<title>Years of working experiences&#45;&gt;Wages</title>\n<path fill=\"none\" stroke=\"#000000\" d=\"M470.4048,-72.3868C455.4876,-62.0595 436.5844,-48.9727 421.0592,-38.2245\"/>\n<polygon fill=\"#000000\" stroke=\"#000000\" points=\"423.0426,-35.3407 412.8284,-32.5263 419.0581,-41.0961 423.0426,-35.3407\"/>\n</g>\n</g>\n</svg>\n"
          },
          "metadata": {},
          "execution_count": 66
        }
      ]
    },
    {
      "cell_type": "code",
      "execution_count": 67,
      "id": "fQCxTFQrBLj4",
      "metadata": {
        "id": "fQCxTFQrBLj4",
        "colab": {
          "base_uri": "https://localhost:8080/"
        },
        "outputId": "8f63aa36-0951-401a-cb27-29db911b3d25"
      },
      "outputs": [
        {
          "output_type": "stream",
          "name": "stderr",
          "text": [
            "100%|██████████| 2000/2000 [00:01<00:00, 1532.89it/s]\n",
            "100%|██████████| 2000/2000 [00:16<00:00, 121.18it/s]"
          ]
        },
        {
          "output_type": "stream",
          "name": "stdout",
          "text": [
            "N=100: bias=-0.04540464031733691, RMSE=2.9298358880413264, size=0.0545\n",
            "N=1000: bias=0.05180339359941566, RMSE=0.9515749780287867, size=0.053\n"
          ]
        },
        {
          "output_type": "stream",
          "name": "stderr",
          "text": [
            "\n"
          ]
        }
      ],
      "source": [
        "tau = 4\n",
        "corr = .5\n",
        "conf = False\n",
        "p = 3\n",
        "p0 = 5 # 5 of covariates used in the DGP\n",
        "flagx=1\n",
        "estDict = {}\n",
        "R = 2000\n",
        "\n",
        "for N in [100, 1000]:\n",
        "    tauhats = []\n",
        "    sehats = []\n",
        "    for r in tqdm(range(R)):\n",
        "        Yexp,T = fn_generate_data(tau,N,p,p0,corr,conf)\n",
        "        Yt = Yexp[np.where(T==1)[0],:]\n",
        "        Yc = Yexp[np.where(T==0)[0],:]\n",
        "        tauhat,se_tauhat = fn_tauhat_means(Yt,Yc)\n",
        "        tauhats = tauhats + [tauhat]\n",
        "        sehats = sehats + [se_tauhat]\n",
        "    estDict[N] = {\n",
        "        'tauhat':np.array(tauhats).reshape([len(tauhats),1]),\n",
        "        'sehat':np.array(sehats).reshape([len(sehats),1])\n",
        "    }\n",
        "    \n",
        "tau0 = tau*np.ones([R,1])\n",
        "for N, results in estDict.items():\n",
        "    (bias,rmse,size) = fn_bias_rmse_size(tau0,results['tauhat'],\n",
        "                                         results['sehat'])\n",
        "    print(f'N={N}: bias={bias}, RMSE={rmse}, size={size}')"
      ]
    },
    {
      "cell_type": "markdown",
      "id": "9c55009c",
      "metadata": {
        "id": "9c55009c"
      },
      "source": [
        "# Q2 (a) You fail to control the confounder\n"
      ]
    },
    {
      "cell_type": "markdown",
      "source": [
        "Real Life examples: Continue our setting regarding education level effect on wages. The confunder is intellengence. So the intellengence can have both direct effect on education level and wages."
      ],
      "metadata": {
        "id": "Y-tUh0XGnnmE"
      },
      "id": "Y-tUh0XGnnmE"
    },
    {
      "cell_type": "markdown",
      "source": [
        "$y_i = \\tau*T_i+\\beta'*x_i+e_i$"
      ],
      "metadata": {
        "id": "Yzbcz-nLoMzC"
      },
      "id": "Yzbcz-nLoMzC"
    },
    {
      "cell_type": "markdown",
      "source": [
        "Now,x is a confounder. if fail to control, the regression become:$y_i = \\tau*T_i+e_i$"
      ],
      "metadata": {
        "id": "0URTtw2ppvW1"
      },
      "id": "0URTtw2ppvW1"
    },
    {
      "cell_type": "code",
      "source": [
        "g = gr.Digraph()\n",
        "g.edge(\"treatment\", \"Y\")\n",
        "\n",
        "\n",
        "g.edge(\"Education\", \"Wage\")\n",
        "\n",
        "\n",
        "g"
      ],
      "metadata": {
        "colab": {
          "base_uri": "https://localhost:8080/",
          "height": 176
        },
        "id": "x5HjP5cntOK-",
        "outputId": "2000afa2-902e-4bf8-f255-aab9ce70053b"
      },
      "id": "x5HjP5cntOK-",
      "execution_count": 68,
      "outputs": [
        {
          "output_type": "execute_result",
          "data": {
            "text/plain": [
              "<graphviz.dot.Digraph at 0x7fc80a61fb50>"
            ],
            "image/svg+xml": "<?xml version=\"1.0\" encoding=\"UTF-8\" standalone=\"no\"?>\n<!DOCTYPE svg PUBLIC \"-//W3C//DTD SVG 1.1//EN\"\n \"http://www.w3.org/Graphics/SVG/1.1/DTD/svg11.dtd\">\n<!-- Generated by graphviz version 2.40.1 (20161225.0304)\n -->\n<!-- Title: %3 Pages: 1 -->\n<svg width=\"214pt\" height=\"116pt\"\n viewBox=\"0.00 0.00 213.59 116.00\" xmlns=\"http://www.w3.org/2000/svg\" xmlns:xlink=\"http://www.w3.org/1999/xlink\">\n<g id=\"graph0\" class=\"graph\" transform=\"scale(1 1) rotate(0) translate(4 112)\">\n<title>%3</title>\n<polygon fill=\"#ffffff\" stroke=\"transparent\" points=\"-4,4 -4,-112 209.5917,-112 209.5917,4 -4,4\"/>\n<!-- treatment -->\n<g id=\"node1\" class=\"node\">\n<title>treatment</title>\n<ellipse fill=\"none\" stroke=\"#000000\" cx=\"44.846\" cy=\"-90\" rx=\"44.6926\" ry=\"18\"/>\n<text text-anchor=\"middle\" x=\"44.846\" y=\"-86.3\" font-family=\"Times,serif\" font-size=\"14.00\" fill=\"#000000\">treatment</text>\n</g>\n<!-- Y -->\n<g id=\"node2\" class=\"node\">\n<title>Y</title>\n<ellipse fill=\"none\" stroke=\"#000000\" cx=\"44.846\" cy=\"-18\" rx=\"27\" ry=\"18\"/>\n<text text-anchor=\"middle\" x=\"44.846\" y=\"-14.3\" font-family=\"Times,serif\" font-size=\"14.00\" fill=\"#000000\">Y</text>\n</g>\n<!-- treatment&#45;&gt;Y -->\n<g id=\"edge1\" class=\"edge\">\n<title>treatment&#45;&gt;Y</title>\n<path fill=\"none\" stroke=\"#000000\" d=\"M44.846,-71.8314C44.846,-64.131 44.846,-54.9743 44.846,-46.4166\"/>\n<polygon fill=\"#000000\" stroke=\"#000000\" points=\"48.3461,-46.4132 44.846,-36.4133 41.3461,-46.4133 48.3461,-46.4132\"/>\n</g>\n<!-- Education -->\n<g id=\"node3\" class=\"node\">\n<title>Education</title>\n<ellipse fill=\"none\" stroke=\"#000000\" cx=\"156.846\" cy=\"-90\" rx=\"48.9926\" ry=\"18\"/>\n<text text-anchor=\"middle\" x=\"156.846\" y=\"-86.3\" font-family=\"Times,serif\" font-size=\"14.00\" fill=\"#000000\">Education</text>\n</g>\n<!-- Wage -->\n<g id=\"node4\" class=\"node\">\n<title>Wage</title>\n<ellipse fill=\"none\" stroke=\"#000000\" cx=\"156.846\" cy=\"-18\" rx=\"31.6951\" ry=\"18\"/>\n<text text-anchor=\"middle\" x=\"156.846\" y=\"-14.3\" font-family=\"Times,serif\" font-size=\"14.00\" fill=\"#000000\">Wage</text>\n</g>\n<!-- Education&#45;&gt;Wage -->\n<g id=\"edge2\" class=\"edge\">\n<title>Education&#45;&gt;Wage</title>\n<path fill=\"none\" stroke=\"#000000\" d=\"M156.846,-71.8314C156.846,-64.131 156.846,-54.9743 156.846,-46.4166\"/>\n<polygon fill=\"#000000\" stroke=\"#000000\" points=\"160.3461,-46.4132 156.846,-36.4133 153.3461,-46.4133 160.3461,-46.4132\"/>\n</g>\n</g>\n</svg>\n"
          },
          "metadata": {},
          "execution_count": 68
        }
      ]
    },
    {
      "cell_type": "markdown",
      "source": [
        "DGP"
      ],
      "metadata": {
        "id": "V6OIq001UAB4"
      },
      "id": "V6OIq001UAB4"
    },
    {
      "cell_type": "code",
      "source": [
        "\n",
        "def fn_generate_data_confounder(tau,N,p,corr):\n",
        "  nvar = p+1 # 1 confounder and variable for randomizing treatment\n",
        "  corr = 0.5 # correlation for multivariate normal\n",
        " \n",
        "  allX = fn_generate_multnorm(N,corr,nvar)\n",
        "  C = allX[:,1].reshape([N,1]) # confounder\n",
        "     \n",
        "  T = fn_randomize_treatment(N) # choose treated units\n",
        "  err = np.random.normal(0,1,[N,1])\n",
        "  Yab = tau*T+0.6*C+err\n",
        "  Tab = T+0.2*C\n",
        "\n",
        "  return (Yab,Tab,C)\n",
        "tau = 3\n",
        "corr = .5\n",
        "p = 10\n",
        "data2 = fn_generate_data_confounder(tau,N,p,corr)\n",
        "a = pd.DataFrame(data2[0])\n",
        "b = pd.DataFrame(data2[1])\n",
        "c = pd.DataFrame(data2[2])\n",
        "data2 = pd.concat([a,b,c],axis=1)\n",
        "data2.columns = ['Y','T','Confounder']\n",
        "data2.to_csv('data_Confounder.csv')\n",
        "\n",
        "data2"
      ],
      "metadata": {
        "colab": {
          "base_uri": "https://localhost:8080/",
          "height": 419
        },
        "id": "QBPMqCQaP28D",
        "outputId": "9a0e24bd-b036-4453-96a7-938fec472988"
      },
      "id": "QBPMqCQaP28D",
      "execution_count": 69,
      "outputs": [
        {
          "output_type": "execute_result",
          "data": {
            "text/plain": [
              "            Y         T  Confounder\n",
              "0    2.905943  1.038319    0.191594\n",
              "1    4.463698  1.175570    0.877851\n",
              "2    0.603163  0.294177    1.470885\n",
              "3    1.873087  0.756383   -1.218084\n",
              "4    3.505795  1.049755    0.248777\n",
              "..        ...       ...         ...\n",
              "995 -0.160867 -0.068362   -0.341810\n",
              "996  1.240803  0.969934   -0.150328\n",
              "997  0.686167 -0.040830   -0.204148\n",
              "998 -0.601921  0.151312    0.756558\n",
              "999  2.722715  1.204820    1.024099\n",
              "\n",
              "[1000 rows x 3 columns]"
            ],
            "text/html": [
              "\n",
              "  <div id=\"df-97aa9c65-a7f4-4f06-aa3a-aa092fb01ac7\">\n",
              "    <div class=\"colab-df-container\">\n",
              "      <div>\n",
              "<style scoped>\n",
              "    .dataframe tbody tr th:only-of-type {\n",
              "        vertical-align: middle;\n",
              "    }\n",
              "\n",
              "    .dataframe tbody tr th {\n",
              "        vertical-align: top;\n",
              "    }\n",
              "\n",
              "    .dataframe thead th {\n",
              "        text-align: right;\n",
              "    }\n",
              "</style>\n",
              "<table border=\"1\" class=\"dataframe\">\n",
              "  <thead>\n",
              "    <tr style=\"text-align: right;\">\n",
              "      <th></th>\n",
              "      <th>Y</th>\n",
              "      <th>T</th>\n",
              "      <th>Confounder</th>\n",
              "    </tr>\n",
              "  </thead>\n",
              "  <tbody>\n",
              "    <tr>\n",
              "      <th>0</th>\n",
              "      <td>2.905943</td>\n",
              "      <td>1.038319</td>\n",
              "      <td>0.191594</td>\n",
              "    </tr>\n",
              "    <tr>\n",
              "      <th>1</th>\n",
              "      <td>4.463698</td>\n",
              "      <td>1.175570</td>\n",
              "      <td>0.877851</td>\n",
              "    </tr>\n",
              "    <tr>\n",
              "      <th>2</th>\n",
              "      <td>0.603163</td>\n",
              "      <td>0.294177</td>\n",
              "      <td>1.470885</td>\n",
              "    </tr>\n",
              "    <tr>\n",
              "      <th>3</th>\n",
              "      <td>1.873087</td>\n",
              "      <td>0.756383</td>\n",
              "      <td>-1.218084</td>\n",
              "    </tr>\n",
              "    <tr>\n",
              "      <th>4</th>\n",
              "      <td>3.505795</td>\n",
              "      <td>1.049755</td>\n",
              "      <td>0.248777</td>\n",
              "    </tr>\n",
              "    <tr>\n",
              "      <th>...</th>\n",
              "      <td>...</td>\n",
              "      <td>...</td>\n",
              "      <td>...</td>\n",
              "    </tr>\n",
              "    <tr>\n",
              "      <th>995</th>\n",
              "      <td>-0.160867</td>\n",
              "      <td>-0.068362</td>\n",
              "      <td>-0.341810</td>\n",
              "    </tr>\n",
              "    <tr>\n",
              "      <th>996</th>\n",
              "      <td>1.240803</td>\n",
              "      <td>0.969934</td>\n",
              "      <td>-0.150328</td>\n",
              "    </tr>\n",
              "    <tr>\n",
              "      <th>997</th>\n",
              "      <td>0.686167</td>\n",
              "      <td>-0.040830</td>\n",
              "      <td>-0.204148</td>\n",
              "    </tr>\n",
              "    <tr>\n",
              "      <th>998</th>\n",
              "      <td>-0.601921</td>\n",
              "      <td>0.151312</td>\n",
              "      <td>0.756558</td>\n",
              "    </tr>\n",
              "    <tr>\n",
              "      <th>999</th>\n",
              "      <td>2.722715</td>\n",
              "      <td>1.204820</td>\n",
              "      <td>1.024099</td>\n",
              "    </tr>\n",
              "  </tbody>\n",
              "</table>\n",
              "<p>1000 rows × 3 columns</p>\n",
              "</div>\n",
              "      <button class=\"colab-df-convert\" onclick=\"convertToInteractive('df-97aa9c65-a7f4-4f06-aa3a-aa092fb01ac7')\"\n",
              "              title=\"Convert this dataframe to an interactive table.\"\n",
              "              style=\"display:none;\">\n",
              "        \n",
              "  <svg xmlns=\"http://www.w3.org/2000/svg\" height=\"24px\"viewBox=\"0 0 24 24\"\n",
              "       width=\"24px\">\n",
              "    <path d=\"M0 0h24v24H0V0z\" fill=\"none\"/>\n",
              "    <path d=\"M18.56 5.44l.94 2.06.94-2.06 2.06-.94-2.06-.94-.94-2.06-.94 2.06-2.06.94zm-11 1L8.5 8.5l.94-2.06 2.06-.94-2.06-.94L8.5 2.5l-.94 2.06-2.06.94zm10 10l.94 2.06.94-2.06 2.06-.94-2.06-.94-.94-2.06-.94 2.06-2.06.94z\"/><path d=\"M17.41 7.96l-1.37-1.37c-.4-.4-.92-.59-1.43-.59-.52 0-1.04.2-1.43.59L10.3 9.45l-7.72 7.72c-.78.78-.78 2.05 0 2.83L4 21.41c.39.39.9.59 1.41.59.51 0 1.02-.2 1.41-.59l7.78-7.78 2.81-2.81c.8-.78.8-2.07 0-2.86zM5.41 20L4 18.59l7.72-7.72 1.47 1.35L5.41 20z\"/>\n",
              "  </svg>\n",
              "      </button>\n",
              "      \n",
              "  <style>\n",
              "    .colab-df-container {\n",
              "      display:flex;\n",
              "      flex-wrap:wrap;\n",
              "      gap: 12px;\n",
              "    }\n",
              "\n",
              "    .colab-df-convert {\n",
              "      background-color: #E8F0FE;\n",
              "      border: none;\n",
              "      border-radius: 50%;\n",
              "      cursor: pointer;\n",
              "      display: none;\n",
              "      fill: #1967D2;\n",
              "      height: 32px;\n",
              "      padding: 0 0 0 0;\n",
              "      width: 32px;\n",
              "    }\n",
              "\n",
              "    .colab-df-convert:hover {\n",
              "      background-color: #E2EBFA;\n",
              "      box-shadow: 0px 1px 2px rgba(60, 64, 67, 0.3), 0px 1px 3px 1px rgba(60, 64, 67, 0.15);\n",
              "      fill: #174EA6;\n",
              "    }\n",
              "\n",
              "    [theme=dark] .colab-df-convert {\n",
              "      background-color: #3B4455;\n",
              "      fill: #D2E3FC;\n",
              "    }\n",
              "\n",
              "    [theme=dark] .colab-df-convert:hover {\n",
              "      background-color: #434B5C;\n",
              "      box-shadow: 0px 1px 3px 1px rgba(0, 0, 0, 0.15);\n",
              "      filter: drop-shadow(0px 1px 2px rgba(0, 0, 0, 0.3));\n",
              "      fill: #FFFFFF;\n",
              "    }\n",
              "  </style>\n",
              "\n",
              "      <script>\n",
              "        const buttonEl =\n",
              "          document.querySelector('#df-97aa9c65-a7f4-4f06-aa3a-aa092fb01ac7 button.colab-df-convert');\n",
              "        buttonEl.style.display =\n",
              "          google.colab.kernel.accessAllowed ? 'block' : 'none';\n",
              "\n",
              "        async function convertToInteractive(key) {\n",
              "          const element = document.querySelector('#df-97aa9c65-a7f4-4f06-aa3a-aa092fb01ac7');\n",
              "          const dataTable =\n",
              "            await google.colab.kernel.invokeFunction('convertToInteractive',\n",
              "                                                     [key], {});\n",
              "          if (!dataTable) return;\n",
              "\n",
              "          const docLinkHtml = 'Like what you see? Visit the ' +\n",
              "            '<a target=\"_blank\" href=https://colab.research.google.com/notebooks/data_table.ipynb>data table notebook</a>'\n",
              "            + ' to learn more about interactive tables.';\n",
              "          element.innerHTML = '';\n",
              "          dataTable['output_type'] = 'display_data';\n",
              "          await google.colab.output.renderOutput(dataTable, element);\n",
              "          const docLink = document.createElement('div');\n",
              "          docLink.innerHTML = docLinkHtml;\n",
              "          element.appendChild(docLink);\n",
              "        }\n",
              "      </script>\n",
              "    </div>\n",
              "  </div>\n",
              "  "
            ]
          },
          "metadata": {},
          "execution_count": 69
        }
      ]
    },
    {
      "cell_type": "code",
      "execution_count": 70,
      "id": "7d22757d",
      "metadata": {
        "colab": {
          "base_uri": "https://localhost:8080/"
        },
        "id": "7d22757d",
        "outputId": "62c1d267-7302-483f-b6fb-00b82f289d9c"
      },
      "outputs": [
        {
          "output_type": "stream",
          "name": "stderr",
          "text": [
            "100%|██████████| 2000/2000 [00:02<00:00, 692.97it/s]\n",
            "100%|██████████| 2000/2000 [00:35<00:00, 56.74it/s]"
          ]
        },
        {
          "output_type": "stream",
          "name": "stdout",
          "text": [
            "N=100: bias=0.0044874031139009885, RMSE=0.15052601358919443, size=0.067\n",
            "N=1000: bias=-0.001028894353435037, RMSE=0.04533602700583871, size=0.055\n"
          ]
        },
        {
          "output_type": "stream",
          "name": "stderr",
          "text": [
            "\n"
          ]
        }
      ],
      "source": [
        "tau = 3\n",
        "corr = .5\n",
        "conf = False\n",
        "p = 10\n",
        "\n",
        "flagX = 1\n",
        "\n",
        "estDict = {}\n",
        "R = 2000\n",
        "\n",
        "for N in [100, 1000]:\n",
        "    tauhats = []\n",
        "    sehats = []\n",
        "    for r in tqdm(range(R)):\n",
        "        Yexp,T,X = fn_generate_data(tau,N,p,p0,corr,conf,flagX)\n",
        "        Xobs = X[:,:p0]\n",
        "        covars = np.concatenate([T,Xobs],axis = 1)\n",
        "        mod = sm.OLS(Yexp,covars)\n",
        "        res = mod.fit()\n",
        "        tauhat = res.params[0]\n",
        "        se_tauhat = res.HC1_se[0]\n",
        "        tauhats = tauhats + [tauhat]\n",
        "        sehats = sehats + [se_tauhat]\n",
        "    estDict[N] = {\n",
        "        'tauhat':np.array(tauhats).reshape([len(tauhats),1]),\n",
        "        'sehat':np.array(sehats).reshape([len(sehats),1])\n",
        "    }\n",
        "    \n",
        "tau0 = tau*np.ones([R,1])\n",
        "for N, results in estDict.items():\n",
        "    (bias,rmse,size) = fn_bias_rmse_size(tau0,results['tauhat'],\n",
        "                                         results['sehat'])\n",
        "    print(f'N={N}: bias={bias}, RMSE={rmse}, size={size}')"
      ]
    },
    {
      "cell_type": "markdown",
      "id": "3edcc3a6",
      "metadata": {
        "id": "3edcc3a6"
      },
      "source": [
        "## Q2 (b) Control the confounder"
      ]
    },
    {
      "cell_type": "markdown",
      "source": [
        "$y_i = \\tau*T_i+\\beta'*x_i+e_i$"
      ],
      "metadata": {
        "id": "Ct1OAXGfqOqe"
      },
      "id": "Ct1OAXGfqOqe"
    },
    {
      "cell_type": "code",
      "source": [
        "g = gr.Digraph()\n",
        "g.edge(\"treatment\", \"Y\")\n",
        "g.edge(\"confounder\", \"Y\")\n",
        "g.edge(\"confounder\",\"treatment\")\n",
        "\n",
        "g.edge(\"Education\", \"Wage\")\n",
        "g.edge(\"Intelligence\", \"Wage\")\n",
        "g.edge(\"Intelligence\",\"Education\")\n",
        "\n",
        "g"
      ],
      "metadata": {
        "colab": {
          "base_uri": "https://localhost:8080/",
          "height": 272
        },
        "id": "SqPmOUAotUYi",
        "outputId": "251b1f56-0017-4a38-d159-9400edeb4056"
      },
      "id": "SqPmOUAotUYi",
      "execution_count": 71,
      "outputs": [
        {
          "output_type": "execute_result",
          "data": {
            "text/plain": [
              "<graphviz.dot.Digraph at 0x7fc80a5f9290>"
            ],
            "image/svg+xml": "<?xml version=\"1.0\" encoding=\"UTF-8\" standalone=\"no\"?>\n<!DOCTYPE svg PUBLIC \"-//W3C//DTD SVG 1.1//EN\"\n \"http://www.w3.org/Graphics/SVG/1.1/DTD/svg11.dtd\">\n<!-- Generated by graphviz version 2.40.1 (20161225.0304)\n -->\n<!-- Title: %3 Pages: 1 -->\n<svg width=\"301pt\" height=\"188pt\"\n viewBox=\"0.00 0.00 300.79 188.00\" xmlns=\"http://www.w3.org/2000/svg\" xmlns:xlink=\"http://www.w3.org/1999/xlink\">\n<g id=\"graph0\" class=\"graph\" transform=\"scale(1 1) rotate(0) translate(4 184)\">\n<title>%3</title>\n<polygon fill=\"#ffffff\" stroke=\"transparent\" points=\"-4,4 -4,-184 296.7912,-184 296.7912,4 -4,4\"/>\n<!-- treatment -->\n<g id=\"node1\" class=\"node\">\n<title>treatment</title>\n<ellipse fill=\"none\" stroke=\"#000000\" cx=\"44.846\" cy=\"-90\" rx=\"44.6926\" ry=\"18\"/>\n<text text-anchor=\"middle\" x=\"44.846\" y=\"-86.3\" font-family=\"Times,serif\" font-size=\"14.00\" fill=\"#000000\">treatment</text>\n</g>\n<!-- Y -->\n<g id=\"node2\" class=\"node\">\n<title>Y</title>\n<ellipse fill=\"none\" stroke=\"#000000\" cx=\"108.846\" cy=\"-18\" rx=\"27\" ry=\"18\"/>\n<text text-anchor=\"middle\" x=\"108.846\" y=\"-14.3\" font-family=\"Times,serif\" font-size=\"14.00\" fill=\"#000000\">Y</text>\n</g>\n<!-- treatment&#45;&gt;Y -->\n<g id=\"edge1\" class=\"edge\">\n<title>treatment&#45;&gt;Y</title>\n<path fill=\"none\" stroke=\"#000000\" d=\"M60.0131,-72.937C68.3786,-63.5259 78.8896,-51.701 88.015,-41.4349\"/>\n<polygon fill=\"#000000\" stroke=\"#000000\" points=\"90.637,-43.7534 94.6647,-33.954 85.4051,-39.1028 90.637,-43.7534\"/>\n</g>\n<!-- confounder -->\n<g id=\"node3\" class=\"node\">\n<title>confounder</title>\n<ellipse fill=\"none\" stroke=\"#000000\" cx=\"91.846\" cy=\"-162\" rx=\"53.8905\" ry=\"18\"/>\n<text text-anchor=\"middle\" x=\"91.846\" y=\"-158.3\" font-family=\"Times,serif\" font-size=\"14.00\" fill=\"#000000\">confounder</text>\n</g>\n<!-- confounder&#45;&gt;treatment -->\n<g id=\"edge3\" class=\"edge\">\n<title>confounder&#45;&gt;treatment</title>\n<path fill=\"none\" stroke=\"#000000\" d=\"M80.228,-144.2022C74.7072,-135.7448 67.9991,-125.4685 61.9142,-116.147\"/>\n<polygon fill=\"#000000\" stroke=\"#000000\" points=\"64.7275,-114.0536 56.3304,-107.593 58.8658,-117.88 64.7275,-114.0536\"/>\n</g>\n<!-- confounder&#45;&gt;Y -->\n<g id=\"edge2\" class=\"edge\">\n<title>confounder&#45;&gt;Y</title>\n<path fill=\"none\" stroke=\"#000000\" d=\"M94.2615,-144.0103C95.65,-133.5137 97.4,-120.0137 98.846,-108 101.3197,-87.448 103.8942,-64.2281 105.8114,-46.5218\"/>\n<polygon fill=\"#000000\" stroke=\"#000000\" points=\"109.3232,-46.6 106.9135,-36.2828 102.3633,-45.8508 109.3232,-46.6\"/>\n</g>\n<!-- Education -->\n<g id=\"node4\" class=\"node\">\n<title>Education</title>\n<ellipse fill=\"none\" stroke=\"#000000\" cx=\"212.846\" cy=\"-90\" rx=\"48.9926\" ry=\"18\"/>\n<text text-anchor=\"middle\" x=\"212.846\" y=\"-86.3\" font-family=\"Times,serif\" font-size=\"14.00\" fill=\"#000000\">Education</text>\n</g>\n<!-- Wage -->\n<g id=\"node5\" class=\"node\">\n<title>Wage</title>\n<ellipse fill=\"none\" stroke=\"#000000\" cx=\"221.846\" cy=\"-18\" rx=\"31.6951\" ry=\"18\"/>\n<text text-anchor=\"middle\" x=\"221.846\" y=\"-14.3\" font-family=\"Times,serif\" font-size=\"14.00\" fill=\"#000000\">Wage</text>\n</g>\n<!-- Education&#45;&gt;Wage -->\n<g id=\"edge4\" class=\"edge\">\n<title>Education&#45;&gt;Wage</title>\n<path fill=\"none\" stroke=\"#000000\" d=\"M215.1171,-71.8314C216.0797,-64.131 217.2242,-54.9743 218.2939,-46.4166\"/>\n<polygon fill=\"#000000\" stroke=\"#000000\" points=\"221.7769,-46.7702 219.5444,-36.4133 214.831,-45.9019 221.7769,-46.7702\"/>\n</g>\n<!-- Intelligence -->\n<g id=\"node6\" class=\"node\">\n<title>Intelligence</title>\n<ellipse fill=\"none\" stroke=\"#000000\" cx=\"238.846\" cy=\"-162\" rx=\"53.8905\" ry=\"18\"/>\n<text text-anchor=\"middle\" x=\"238.846\" y=\"-158.3\" font-family=\"Times,serif\" font-size=\"14.00\" fill=\"#000000\">Intelligence</text>\n</g>\n<!-- Intelligence&#45;&gt;Education -->\n<g id=\"edge6\" class=\"edge\">\n<title>Intelligence&#45;&gt;Education</title>\n<path fill=\"none\" stroke=\"#000000\" d=\"M232.2851,-143.8314C229.3996,-135.8406 225.9478,-126.2819 222.759,-117.4514\"/>\n<polygon fill=\"#000000\" stroke=\"#000000\" points=\"226.0032,-116.1302 219.3148,-107.9134 219.4193,-118.5077 226.0032,-116.1302\"/>\n</g>\n<!-- Intelligence&#45;&gt;Wage -->\n<g id=\"edge5\" class=\"edge\">\n<title>Intelligence&#45;&gt;Wage</title>\n<path fill=\"none\" stroke=\"#000000\" d=\"M252.7683,-144.3068C265.3262,-126.0829 280.4621,-96.9072 270.846,-72 266.1441,-59.8212 257.2789,-48.6916 248.3677,-39.7423\"/>\n<polygon fill=\"#000000\" stroke=\"#000000\" points=\"250.6396,-37.0741 240.9618,-32.7625 245.8386,-42.1682 250.6396,-37.0741\"/>\n</g>\n</g>\n</svg>\n"
          },
          "metadata": {},
          "execution_count": 71
        }
      ]
    },
    {
      "cell_type": "code",
      "execution_count": 72,
      "id": "c1d9ba1c",
      "metadata": {
        "colab": {
          "base_uri": "https://localhost:8080/"
        },
        "id": "c1d9ba1c",
        "outputId": "dc2e5470-378d-488e-b0a9-c101650d8a06"
      },
      "outputs": [
        {
          "output_type": "stream",
          "name": "stderr",
          "text": [
            "100%|██████████| 2000/2000 [00:02<00:00, 712.28it/s]\n",
            "100%|██████████| 2000/2000 [00:35<00:00, 56.24it/s]"
          ]
        },
        {
          "output_type": "stream",
          "name": "stdout",
          "text": [
            "N=100: bias=-0.0011854029811088288, RMSE=0.15719657148181787, size=0.059\n",
            "N=1000: bias=-0.0004538577076005967, RMSE=0.04796850727375354, size=0.0495\n"
          ]
        },
        {
          "output_type": "stream",
          "name": "stderr",
          "text": [
            "\n"
          ]
        }
      ],
      "source": [
        "tau = 3\n",
        "corr = .5\n",
        "conf = True\n",
        "p = 10\n",
        "\n",
        "flagX = 1\n",
        "\n",
        "estDict = {}\n",
        "R = 2000\n",
        "\n",
        "for N in [100, 1000]:\n",
        "    tauhats = []\n",
        "    sehats = []\n",
        "    for r in tqdm(range(R)):\n",
        "        Yexp,T,X = fn_generate_data(tau,N,p,p0,corr,conf,flagX)\n",
        "        Xobs = X[:,:p0]\n",
        "        covars = np.concatenate([T,Xobs],axis = 1)\n",
        "        mod = sm.OLS(Yexp,covars)\n",
        "        res = mod.fit()\n",
        "        tauhat = res.params[0]\n",
        "        se_tauhat = res.HC1_se[0]\n",
        "        tauhats = tauhats + [tauhat]\n",
        "        sehats = sehats + [se_tauhat]\n",
        "    estDict[N] = {\n",
        "        'tauhat':np.array(tauhats).reshape([len(tauhats),1]),\n",
        "        'sehat':np.array(sehats).reshape([len(sehats),1])\n",
        "    }\n",
        "    \n",
        "tau0 = tau*np.ones([R,1])\n",
        "for N, results in estDict.items():\n",
        "    (bias,rmse,size) = fn_bias_rmse_size(tau0,results['tauhat'],\n",
        "                                         results['sehat'])\n",
        "    print(f'N={N}: bias={bias}, RMSE={rmse}, size={size}')"
      ]
    },
    {
      "cell_type": "markdown",
      "id": "CL6ksaDaGJs_",
      "metadata": {
        "id": "CL6ksaDaGJs_"
      },
      "source": [
        "## Q3 "
      ]
    },
    {
      "cell_type": "markdown",
      "source": [
        "Real Life Example: We still want to estimate the effect of education level on wages. Now the treatment is education level too. And, we control python coding skill,the more education level can led people to have more pyhthon coding skill and let to high wages. So the python coding skill is mediator.\n",
        "\n",
        "\n",
        "\n",
        "\n",
        "\n"
      ],
      "metadata": {
        "id": "c24cezDysYnT"
      },
      "id": "c24cezDysYnT"
    },
    {
      "cell_type": "code",
      "source": [
        "g = gr.Digraph()\n",
        "g.edge(\"T\", \"X\")\n",
        "g.edge(\"T\", \"Y\")\n",
        "g.edge(\"X\", \"Y\")\n",
        "g.edge(\"Z\", \"Y\")\n",
        "g.node(\"X\", \"X\", color=\"red\")\n",
        "\n",
        "g.edge(\"education\", \"python skill\")\n",
        "g.edge(\"education\", \"wage\")\n",
        "g.edge(\"Gender\", \"wage\")\n",
        "g.edge(\"python skill\", \"wage\")\n",
        "\n",
        "g"
      ],
      "metadata": {
        "colab": {
          "base_uri": "https://localhost:8080/",
          "height": 272
        },
        "id": "I2mPOvKd57xn",
        "outputId": "5f35e801-9edb-4e66-9ae5-df63cad943ea"
      },
      "id": "I2mPOvKd57xn",
      "execution_count": 73,
      "outputs": [
        {
          "output_type": "execute_result",
          "data": {
            "text/plain": [
              "<graphviz.dot.Digraph at 0x7fc80a5fb490>"
            ],
            "image/svg+xml": "<?xml version=\"1.0\" encoding=\"UTF-8\" standalone=\"no\"?>\n<!DOCTYPE svg PUBLIC \"-//W3C//DTD SVG 1.1//EN\"\n \"http://www.w3.org/Graphics/SVG/1.1/DTD/svg11.dtd\">\n<!-- Generated by graphviz version 2.40.1 (20161225.0304)\n -->\n<!-- Title: %3 Pages: 1 -->\n<svg width=\"434pt\" height=\"188pt\"\n viewBox=\"0.00 0.00 434.35 188.00\" xmlns=\"http://www.w3.org/2000/svg\" xmlns:xlink=\"http://www.w3.org/1999/xlink\">\n<g id=\"graph0\" class=\"graph\" transform=\"scale(1 1) rotate(0) translate(4 184)\">\n<title>%3</title>\n<polygon fill=\"#ffffff\" stroke=\"transparent\" points=\"-4,4 -4,-184 430.3466,-184 430.3466,4 -4,4\"/>\n<!-- T -->\n<g id=\"node1\" class=\"node\">\n<title>T</title>\n<ellipse fill=\"none\" stroke=\"#000000\" cx=\"55\" cy=\"-162\" rx=\"27\" ry=\"18\"/>\n<text text-anchor=\"middle\" x=\"55\" y=\"-158.3\" font-family=\"Times,serif\" font-size=\"14.00\" fill=\"#000000\">T</text>\n</g>\n<!-- X -->\n<g id=\"node2\" class=\"node\">\n<title>X</title>\n<ellipse fill=\"none\" stroke=\"#ff0000\" cx=\"27\" cy=\"-90\" rx=\"27\" ry=\"18\"/>\n<text text-anchor=\"middle\" x=\"27\" y=\"-86.3\" font-family=\"Times,serif\" font-size=\"14.00\" fill=\"#000000\">X</text>\n</g>\n<!-- T&#45;&gt;X -->\n<g id=\"edge1\" class=\"edge\">\n<title>T&#45;&gt;X</title>\n<path fill=\"none\" stroke=\"#000000\" d=\"M48.222,-144.5708C45.0128,-136.3187 41.1065,-126.2738 37.5242,-117.0623\"/>\n<polygon fill=\"#000000\" stroke=\"#000000\" points=\"40.6992,-115.5697 33.8126,-107.5182 34.1752,-118.1069 40.6992,-115.5697\"/>\n</g>\n<!-- Y -->\n<g id=\"node3\" class=\"node\">\n<title>Y</title>\n<ellipse fill=\"none\" stroke=\"#000000\" cx=\"82\" cy=\"-18\" rx=\"27\" ry=\"18\"/>\n<text text-anchor=\"middle\" x=\"82\" y=\"-14.3\" font-family=\"Times,serif\" font-size=\"14.00\" fill=\"#000000\">Y</text>\n</g>\n<!-- T&#45;&gt;Y -->\n<g id=\"edge2\" class=\"edge\">\n<title>T&#45;&gt;Y</title>\n<path fill=\"none\" stroke=\"#000000\" d=\"M58.365,-144.0535C62.973,-119.4774 71.2936,-75.1008 76.7317,-46.0974\"/>\n<polygon fill=\"#000000\" stroke=\"#000000\" points=\"80.1897,-46.6465 78.5926,-36.1727 73.3096,-45.3564 80.1897,-46.6465\"/>\n</g>\n<!-- X&#45;&gt;Y -->\n<g id=\"edge3\" class=\"edge\">\n<title>X&#45;&gt;Y</title>\n<path fill=\"none\" stroke=\"#000000\" d=\"M39.4804,-73.6621C46.5124,-64.4564 55.4347,-52.7764 63.2883,-42.4953\"/>\n<polygon fill=\"#000000\" stroke=\"#000000\" points=\"66.28,-44.3446 69.569,-34.2733 60.7172,-40.0953 66.28,-44.3446\"/>\n</g>\n<!-- Z -->\n<g id=\"node4\" class=\"node\">\n<title>Z</title>\n<ellipse fill=\"none\" stroke=\"#000000\" cx=\"137\" cy=\"-90\" rx=\"27\" ry=\"18\"/>\n<text text-anchor=\"middle\" x=\"137\" y=\"-86.3\" font-family=\"Times,serif\" font-size=\"14.00\" fill=\"#000000\">Z</text>\n</g>\n<!-- Z&#45;&gt;Y -->\n<g id=\"edge4\" class=\"edge\">\n<title>Z&#45;&gt;Y</title>\n<path fill=\"none\" stroke=\"#000000\" d=\"M124.5196,-73.6621C117.4876,-64.4564 108.5653,-52.7764 100.7117,-42.4953\"/>\n<polygon fill=\"#000000\" stroke=\"#000000\" points=\"103.2828,-40.0953 94.431,-34.2733 97.72,-44.3446 103.2828,-40.0953\"/>\n</g>\n<!-- education -->\n<g id=\"node5\" class=\"node\">\n<title>education</title>\n<ellipse fill=\"none\" stroke=\"#000000\" cx=\"280\" cy=\"-162\" rx=\"46.5926\" ry=\"18\"/>\n<text text-anchor=\"middle\" x=\"280\" y=\"-158.3\" font-family=\"Times,serif\" font-size=\"14.00\" fill=\"#000000\">education</text>\n</g>\n<!-- python skill -->\n<g id=\"node6\" class=\"node\">\n<title>python skill</title>\n<ellipse fill=\"none\" stroke=\"#000000\" cx=\"238\" cy=\"-90\" rx=\"55.7903\" ry=\"18\"/>\n<text text-anchor=\"middle\" x=\"238\" y=\"-86.3\" font-family=\"Times,serif\" font-size=\"14.00\" fill=\"#000000\">python skill</text>\n</g>\n<!-- education&#45;&gt;python skill -->\n<g id=\"edge5\" class=\"edge\">\n<title>education&#45;&gt;python skill</title>\n<path fill=\"none\" stroke=\"#000000\" d=\"M269.618,-144.2022C264.7718,-135.8944 258.9018,-125.8316 253.5416,-116.6427\"/>\n<polygon fill=\"#000000\" stroke=\"#000000\" points=\"256.4701,-114.7168 248.4082,-107.8425 250.4237,-118.2439 256.4701,-114.7168\"/>\n</g>\n<!-- wage -->\n<g id=\"node7\" class=\"node\">\n<title>wage</title>\n<ellipse fill=\"none\" stroke=\"#000000\" cx=\"322\" cy=\"-18\" rx=\"30.5947\" ry=\"18\"/>\n<text text-anchor=\"middle\" x=\"322\" y=\"-14.3\" font-family=\"Times,serif\" font-size=\"14.00\" fill=\"#000000\">wage</text>\n</g>\n<!-- education&#45;&gt;wage -->\n<g id=\"edge6\" class=\"edge\">\n<title>education&#45;&gt;wage</title>\n<path fill=\"none\" stroke=\"#000000\" d=\"M288.7834,-143.8405C293.5081,-133.5181 299.1401,-120.2454 303,-108 309.3912,-87.7242 314.2733,-64.1982 317.4875,-46.2853\"/>\n<polygon fill=\"#000000\" stroke=\"#000000\" points=\"320.977,-46.6455 319.2289,-36.1959 314.079,-45.4549 320.977,-46.6455\"/>\n</g>\n<!-- python skill&#45;&gt;wage -->\n<g id=\"edge8\" class=\"edge\">\n<title>python skill&#45;&gt;wage</title>\n<path fill=\"none\" stroke=\"#000000\" d=\"M257.9068,-72.937C269.5278,-62.9762 284.3034,-50.3114 296.7385,-39.6527\"/>\n<polygon fill=\"#000000\" stroke=\"#000000\" points=\"299.2006,-42.1521 304.5154,-32.9868 294.6451,-36.8373 299.2006,-42.1521\"/>\n</g>\n<!-- Gender -->\n<g id=\"node8\" class=\"node\">\n<title>Gender</title>\n<ellipse fill=\"none\" stroke=\"#000000\" cx=\"388\" cy=\"-90\" rx=\"38.1938\" ry=\"18\"/>\n<text text-anchor=\"middle\" x=\"388\" y=\"-86.3\" font-family=\"Times,serif\" font-size=\"14.00\" fill=\"#000000\">Gender</text>\n</g>\n<!-- Gender&#45;&gt;wage -->\n<g id=\"edge7\" class=\"edge\">\n<title>Gender&#45;&gt;wage</title>\n<path fill=\"none\" stroke=\"#000000\" d=\"M372.6924,-73.3008C364.0744,-63.8993 353.1707,-52.0044 343.6858,-41.6573\"/>\n<polygon fill=\"#000000\" stroke=\"#000000\" points=\"346.1079,-39.1199 336.7706,-34.1134 340.9478,-43.85 346.1079,-39.1199\"/>\n</g>\n</g>\n</svg>\n"
          },
          "metadata": {},
          "execution_count": 73
        }
      ]
    },
    {
      "cell_type": "markdown",
      "source": [
        "$y_i = \\tau*T_i+\\beta'*x_i+α*Xsel_i+e_i$"
      ],
      "metadata": {
        "id": "g59rxqTJg0Cl"
      },
      "id": "g59rxqTJg0Cl"
    },
    {
      "cell_type": "code",
      "source": [
        "def fn_gen_data_selection(tau,N,p,p0,corr,conf = True,flagX = False):\n",
        "\n",
        "    nvar = p+2 # 1 confounder and variable for randomizing treatment\n",
        "\n",
        "    if conf==False:\n",
        "        conf_mult = 0 \n",
        "    else:\n",
        "        conf_mult = 1 \n",
        "        \n",
        "    allX = fn_generate_multnorm(N,corr,nvar)\n",
        "    W0 = allX[:,0].reshape([N,1]) # variable for RDD assignment\n",
        "    C = allX[:,1].reshape([N,1]) # confounder\n",
        "    X = allX[:,2:] # covariates\n",
        "    \n",
        "    T = fn_randomize_treatment(N) \n",
        "    err = np.random.normal(0,1,[N,1])\n",
        "    beta0 = np.random.normal(5,5,[p,1])\n",
        "    \n",
        "    \n",
        "    u = np.random.normal(0,1,[N,1])\n",
        "    tmp = random.sample(range(N), round(N*0.4))\n",
        "    Xsel = np.array([(1 if i in tmp and T[i]==1 else 0) for i in range(N)]).reshape([N,1])\n",
        "    Xsel = Xsel+36*T+u \n",
        "    \n",
        "    beta0[p0:p] = 0 # sparse model\n",
        "    Yab = tau*T+X@beta0+conf_mult*100*C+0.01*Xsel+err \n",
        "    \n",
        "    if flagX==False and conf==True:\n",
        "        return (Yab,T,Xsel,C)\n",
        "    elif flagX==False and conf==False:\n",
        "        return (Yab,T,Xsel)\n",
        "    elif flagX==True and conf==True:\n",
        "        return (Yab,T,Xsel,C,X[:, :p0])\n",
        "    else:\n",
        "        return (Yab,T,Xsel,X[:,:p0])"
      ],
      "metadata": {
        "id": "hWLIjn0dE5X-"
      },
      "id": "hWLIjn0dE5X-",
      "execution_count": 74,
      "outputs": []
    },
    {
      "cell_type": "markdown",
      "source": [
        "DGP"
      ],
      "metadata": {
        "id": "XTgPPJx6XS7M"
      },
      "id": "XTgPPJx6XS7M"
    },
    {
      "cell_type": "code",
      "source": [
        "data3 = np.concatenate([Y,T,Xsel],axis = 1)\n",
        "data3 = pd.DataFrame(data3)\n",
        "data3.columns = ['Y', 'T', 'Xsel']\n",
        "data3.to_csv('data_Selection bias.csv')\n",
        "data3"
      ],
      "metadata": {
        "colab": {
          "base_uri": "https://localhost:8080/",
          "height": 419
        },
        "id": "PuiqyOJPVahk",
        "outputId": "0422dc2c-37ab-452f-a0d4-0fc86f943d72"
      },
      "id": "PuiqyOJPVahk",
      "execution_count": null,
      "outputs": [
        {
          "output_type": "execute_result",
          "data": {
            "text/plain": [
              "             Y    T       Xsel\n",
              "0    -8.815870  1.0  37.176793\n",
              "1    -5.108761  0.0  -0.973613\n",
              "2   -21.982790  0.0  -0.559890\n",
              "3    13.026024  1.0  35.538263\n",
              "4    -6.341921  1.0  36.751255\n",
              "..         ...  ...        ...\n",
              "995   5.626024  1.0  36.396543\n",
              "996  23.083200  0.0   1.499442\n",
              "997  -4.845321  0.0  -1.369771\n",
              "998  -2.507927  0.0   0.421502\n",
              "999   5.555998  1.0  36.188297\n",
              "\n",
              "[1000 rows x 3 columns]"
            ],
            "text/html": [
              "\n",
              "  <div id=\"df-ff1c087b-a85e-420b-b7ec-45a5e5c938a8\">\n",
              "    <div class=\"colab-df-container\">\n",
              "      <div>\n",
              "<style scoped>\n",
              "    .dataframe tbody tr th:only-of-type {\n",
              "        vertical-align: middle;\n",
              "    }\n",
              "\n",
              "    .dataframe tbody tr th {\n",
              "        vertical-align: top;\n",
              "    }\n",
              "\n",
              "    .dataframe thead th {\n",
              "        text-align: right;\n",
              "    }\n",
              "</style>\n",
              "<table border=\"1\" class=\"dataframe\">\n",
              "  <thead>\n",
              "    <tr style=\"text-align: right;\">\n",
              "      <th></th>\n",
              "      <th>Y</th>\n",
              "      <th>T</th>\n",
              "      <th>Xsel</th>\n",
              "    </tr>\n",
              "  </thead>\n",
              "  <tbody>\n",
              "    <tr>\n",
              "      <th>0</th>\n",
              "      <td>-8.815870</td>\n",
              "      <td>1.0</td>\n",
              "      <td>37.176793</td>\n",
              "    </tr>\n",
              "    <tr>\n",
              "      <th>1</th>\n",
              "      <td>-5.108761</td>\n",
              "      <td>0.0</td>\n",
              "      <td>-0.973613</td>\n",
              "    </tr>\n",
              "    <tr>\n",
              "      <th>2</th>\n",
              "      <td>-21.982790</td>\n",
              "      <td>0.0</td>\n",
              "      <td>-0.559890</td>\n",
              "    </tr>\n",
              "    <tr>\n",
              "      <th>3</th>\n",
              "      <td>13.026024</td>\n",
              "      <td>1.0</td>\n",
              "      <td>35.538263</td>\n",
              "    </tr>\n",
              "    <tr>\n",
              "      <th>4</th>\n",
              "      <td>-6.341921</td>\n",
              "      <td>1.0</td>\n",
              "      <td>36.751255</td>\n",
              "    </tr>\n",
              "    <tr>\n",
              "      <th>...</th>\n",
              "      <td>...</td>\n",
              "      <td>...</td>\n",
              "      <td>...</td>\n",
              "    </tr>\n",
              "    <tr>\n",
              "      <th>995</th>\n",
              "      <td>5.626024</td>\n",
              "      <td>1.0</td>\n",
              "      <td>36.396543</td>\n",
              "    </tr>\n",
              "    <tr>\n",
              "      <th>996</th>\n",
              "      <td>23.083200</td>\n",
              "      <td>0.0</td>\n",
              "      <td>1.499442</td>\n",
              "    </tr>\n",
              "    <tr>\n",
              "      <th>997</th>\n",
              "      <td>-4.845321</td>\n",
              "      <td>0.0</td>\n",
              "      <td>-1.369771</td>\n",
              "    </tr>\n",
              "    <tr>\n",
              "      <th>998</th>\n",
              "      <td>-2.507927</td>\n",
              "      <td>0.0</td>\n",
              "      <td>0.421502</td>\n",
              "    </tr>\n",
              "    <tr>\n",
              "      <th>999</th>\n",
              "      <td>5.555998</td>\n",
              "      <td>1.0</td>\n",
              "      <td>36.188297</td>\n",
              "    </tr>\n",
              "  </tbody>\n",
              "</table>\n",
              "<p>1000 rows × 3 columns</p>\n",
              "</div>\n",
              "      <button class=\"colab-df-convert\" onclick=\"convertToInteractive('df-ff1c087b-a85e-420b-b7ec-45a5e5c938a8')\"\n",
              "              title=\"Convert this dataframe to an interactive table.\"\n",
              "              style=\"display:none;\">\n",
              "        \n",
              "  <svg xmlns=\"http://www.w3.org/2000/svg\" height=\"24px\"viewBox=\"0 0 24 24\"\n",
              "       width=\"24px\">\n",
              "    <path d=\"M0 0h24v24H0V0z\" fill=\"none\"/>\n",
              "    <path d=\"M18.56 5.44l.94 2.06.94-2.06 2.06-.94-2.06-.94-.94-2.06-.94 2.06-2.06.94zm-11 1L8.5 8.5l.94-2.06 2.06-.94-2.06-.94L8.5 2.5l-.94 2.06-2.06.94zm10 10l.94 2.06.94-2.06 2.06-.94-2.06-.94-.94-2.06-.94 2.06-2.06.94z\"/><path d=\"M17.41 7.96l-1.37-1.37c-.4-.4-.92-.59-1.43-.59-.52 0-1.04.2-1.43.59L10.3 9.45l-7.72 7.72c-.78.78-.78 2.05 0 2.83L4 21.41c.39.39.9.59 1.41.59.51 0 1.02-.2 1.41-.59l7.78-7.78 2.81-2.81c.8-.78.8-2.07 0-2.86zM5.41 20L4 18.59l7.72-7.72 1.47 1.35L5.41 20z\"/>\n",
              "  </svg>\n",
              "      </button>\n",
              "      \n",
              "  <style>\n",
              "    .colab-df-container {\n",
              "      display:flex;\n",
              "      flex-wrap:wrap;\n",
              "      gap: 12px;\n",
              "    }\n",
              "\n",
              "    .colab-df-convert {\n",
              "      background-color: #E8F0FE;\n",
              "      border: none;\n",
              "      border-radius: 50%;\n",
              "      cursor: pointer;\n",
              "      display: none;\n",
              "      fill: #1967D2;\n",
              "      height: 32px;\n",
              "      padding: 0 0 0 0;\n",
              "      width: 32px;\n",
              "    }\n",
              "\n",
              "    .colab-df-convert:hover {\n",
              "      background-color: #E2EBFA;\n",
              "      box-shadow: 0px 1px 2px rgba(60, 64, 67, 0.3), 0px 1px 3px 1px rgba(60, 64, 67, 0.15);\n",
              "      fill: #174EA6;\n",
              "    }\n",
              "\n",
              "    [theme=dark] .colab-df-convert {\n",
              "      background-color: #3B4455;\n",
              "      fill: #D2E3FC;\n",
              "    }\n",
              "\n",
              "    [theme=dark] .colab-df-convert:hover {\n",
              "      background-color: #434B5C;\n",
              "      box-shadow: 0px 1px 3px 1px rgba(0, 0, 0, 0.15);\n",
              "      filter: drop-shadow(0px 1px 2px rgba(0, 0, 0, 0.3));\n",
              "      fill: #FFFFFF;\n",
              "    }\n",
              "  </style>\n",
              "\n",
              "      <script>\n",
              "        const buttonEl =\n",
              "          document.querySelector('#df-ff1c087b-a85e-420b-b7ec-45a5e5c938a8 button.colab-df-convert');\n",
              "        buttonEl.style.display =\n",
              "          google.colab.kernel.accessAllowed ? 'block' : 'none';\n",
              "\n",
              "        async function convertToInteractive(key) {\n",
              "          const element = document.querySelector('#df-ff1c087b-a85e-420b-b7ec-45a5e5c938a8');\n",
              "          const dataTable =\n",
              "            await google.colab.kernel.invokeFunction('convertToInteractive',\n",
              "                                                     [key], {});\n",
              "          if (!dataTable) return;\n",
              "\n",
              "          const docLinkHtml = 'Like what you see? Visit the ' +\n",
              "            '<a target=\"_blank\" href=https://colab.research.google.com/notebooks/data_table.ipynb>data table notebook</a>'\n",
              "            + ' to learn more about interactive tables.';\n",
              "          element.innerHTML = '';\n",
              "          dataTable['output_type'] = 'display_data';\n",
              "          await google.colab.output.renderOutput(dataTable, element);\n",
              "          const docLink = document.createElement('div');\n",
              "          docLink.innerHTML = docLinkHtml;\n",
              "          element.appendChild(docLink);\n",
              "        }\n",
              "      </script>\n",
              "    </div>\n",
              "  </div>\n",
              "  "
            ]
          },
          "metadata": {},
          "execution_count": 54
        }
      ]
    },
    {
      "cell_type": "markdown",
      "source": [
        "###Q3(a). fail to control selection bias"
      ],
      "metadata": {
        "id": "6Om2ko89PEcs"
      },
      "id": "6Om2ko89PEcs"
    },
    {
      "cell_type": "code",
      "source": [
        "tau = 3  \n",
        "p = 10   \n",
        "p0 = 1  \n",
        "corr = .5 \n",
        "conf = False  \n",
        "flagX = 1\n",
        "R = 2000  \n",
        "\n",
        "for N in [100, 1000]:\n",
        "    tauhats = []\n",
        "    sehats = []\n",
        "    const = np.ones([N, 1])\n",
        "    for r in tqdm(range(R)):  \n",
        "        Yexp,T,Xsel,X = fn_gen_data_selection(tau,N,p,p0,corr,conf,flagX)\n",
        "        model = sm.OLS(Yexp,np.concatenate([T,X,const],axis = 1)) \n",
        "        reg = model.fit()\n",
        "        tauhat = reg.params[0]\n",
        "        se_tauhat = reg.HC1_se[0]\n",
        "        tauhats = tauhats + [tauhat]\n",
        "        sehats = sehats + [se_tauhat]\n",
        "    estDict[N] = {\n",
        "        'tauhat':np.array(tauhats).reshape([len(tauhats),1]),\n",
        "        'sehat':np.array(sehats).reshape([len(sehats),1])\n",
        "    }\n",
        "\n",
        "tau0 = tau*np.ones([R,1])\n",
        "for N, results in estDict.items():\n",
        "    (bias,rmse,size) = fn_bias_rmse_size(tau0,results['tauhat'],\n",
        "                                         results['sehat'])\n",
        "    print(f'N={N}: bias={bias}, RMSE={rmse}, size={size}')"
      ],
      "metadata": {
        "colab": {
          "base_uri": "https://localhost:8080/"
        },
        "id": "Egolv70Ip5s1",
        "outputId": "98c6025b-f7dc-4513-a52f-a1430a3d50d4"
      },
      "id": "Egolv70Ip5s1",
      "execution_count": 75,
      "outputs": [
        {
          "output_type": "stream",
          "name": "stderr",
          "text": [
            "100%|██████████| 2000/2000 [00:03<00:00, 647.76it/s]\n",
            "100%|██████████| 2000/2000 [01:01<00:00, 32.33it/s]"
          ]
        },
        {
          "output_type": "stream",
          "name": "stdout",
          "text": [
            "N=100: bias=0.36165563139658125, RMSE=0.4149800713080146, size=0.438\n",
            "N=1000: bias=0.36578759995750565, RMSE=0.3709810773450256, size=1.0\n"
          ]
        },
        {
          "output_type": "stream",
          "name": "stderr",
          "text": [
            "\n"
          ]
        }
      ]
    },
    {
      "cell_type": "markdown",
      "source": [
        "###Q3 (b) control the selection bias\n"
      ],
      "metadata": {
        "id": "IU_p4py39tR7"
      },
      "id": "IU_p4py39tR7"
    },
    {
      "cell_type": "code",
      "execution_count": 76,
      "id": "_4v_si_hJaAm",
      "metadata": {
        "id": "_4v_si_hJaAm",
        "colab": {
          "base_uri": "https://localhost:8080/"
        },
        "outputId": "7ef42c94-34b1-406c-8fb7-cfd87d7304c8"
      },
      "outputs": [
        {
          "output_type": "stream",
          "name": "stderr",
          "text": [
            "100%|██████████| 2000/2000 [00:02<00:00, 696.05it/s]\n",
            "100%|██████████| 2000/2000 [00:59<00:00, 33.66it/s]"
          ]
        },
        {
          "output_type": "stream",
          "name": "stdout",
          "text": [
            "N=1000: bias=-0.027834258916361335, RMSE=1.130083720072551, size=0.055\n"
          ]
        },
        {
          "output_type": "stream",
          "name": "stderr",
          "text": [
            "\n"
          ]
        }
      ],
      "source": [
        "tau = 3 \n",
        "p = 10   \n",
        "p0 = 1  \n",
        "corr = .5 \n",
        "conf = False  \n",
        "flagX = 1\n",
        "R = 2000  \n",
        "\n",
        "for N in [100, 1000]:\n",
        "    tauhats = []\n",
        "    sehats = []\n",
        "    const = np.ones([N, 1])\n",
        "    for r in tqdm(range(R)):  \n",
        "        Yexp,T,Xsel,X = fn_gen_data_selection(tau,N,p,p0,corr,conf,flagX)\n",
        "        model = sm.OLS(Yexp,np.concatenate([T,Xsel,X,const],axis = 1))  \n",
        "        reg = model.fit()\n",
        "        tauhat = reg.params[0]\n",
        "        se_tauhat = reg.HC1_se[0]\n",
        "        tauhats = tauhats + [tauhat]\n",
        "        sehats = sehats + [se_tauhat]\n",
        "    estDict[N] = {\n",
        "        'tauhat':np.array(tauhats).reshape([len(tauhats),1]),\n",
        "        'sehat':np.array(sehats).reshape([len(sehats),1])\n",
        "    }\n",
        "\n",
        "tau0 = tau*np.ones([R,1])\n",
        "for N, results in estDict.items():\n",
        "    (bias,rmse,size) = fn_bias_rmse_size(tau0,results['tauhat'],\n",
        "                                         results['sehat'])\n",
        "print(f'N={N}: bias={bias}, RMSE={rmse}, size={size}')"
      ]
    },
    {
      "cell_type": "markdown",
      "source": [
        "###Reference\n",
        "1.Class Jupternote: 1.0 randomize experiment\n",
        "\n",
        "2.DAG:https://matheusfacure.github.io/python-causality-handbook/04-Graphical-Causal-Models.html\n",
        "\n",
        "3.Github user: Dinglu Pan\n",
        "\n"
      ],
      "metadata": {
        "id": "omWq1Ol3YP5q"
      },
      "id": "omWq1Ol3YP5q"
    }
  ],
  "metadata": {
    "colab": {
      "collapsed_sections": [],
      "name": "Zhongjia Wang_Assignment_2 .ipynb",
      "provenance": [],
      "include_colab_link": true
    },
    "kernelspec": {
      "display_name": "Python 3 (ipykernel)",
      "language": "python",
      "name": "python3"
    },
    "language_info": {
      "codemirror_mode": {
        "name": "ipython",
        "version": 3
      },
      "file_extension": ".py",
      "mimetype": "text/x-python",
      "name": "python",
      "nbconvert_exporter": "python",
      "pygments_lexer": "ipython3",
      "version": "3.9.7"
    }
  },
  "nbformat": 4,
  "nbformat_minor": 5
}